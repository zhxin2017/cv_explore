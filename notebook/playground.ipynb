{
 "cells": [
  {
   "cell_type": "code",
   "execution_count": 1,
   "id": "27b790c2",
   "metadata": {
    "ExecuteTime": {
     "end_time": "2024-04-15T12:39:20.688565Z",
     "start_time": "2024-04-15T12:39:20.651081Z"
    }
   },
   "outputs": [],
   "source": [
    "import random"
   ]
  },
  {
   "cell_type": "code",
   "execution_count": 14,
   "id": "6c447b55",
   "metadata": {
    "ExecuteTime": {
     "end_time": "2024-04-15T12:45:21.053407Z",
     "start_time": "2024-04-15T12:45:21.048974Z"
    }
   },
   "outputs": [
    {
     "data": {
      "text/plain": [
       "0.16684776123962297"
      ]
     },
     "execution_count": 14,
     "metadata": {},
     "output_type": "execute_result"
    }
   ],
   "source": [
    "random.random()"
   ]
  },
  {
   "cell_type": "code",
   "execution_count": 15,
   "id": "eb13aef4",
   "metadata": {
    "ExecuteTime": {
     "end_time": "2024-04-17T09:32:20.440259Z",
     "start_time": "2024-04-17T09:32:18.891212Z"
    }
   },
   "outputs": [],
   "source": [
    "import torch"
   ]
  },
  {
   "cell_type": "code",
   "execution_count": 16,
   "id": "8f00b7f6",
   "metadata": {
    "ExecuteTime": {
     "end_time": "2024-04-17T09:32:47.610672Z",
     "start_time": "2024-04-17T09:32:47.596204Z"
    }
   },
   "outputs": [],
   "source": [
    "a = torch.arange(24).reshape(3, 2, 4)"
   ]
  },
  {
   "cell_type": "code",
   "execution_count": 120,
   "id": "4da4903f",
   "metadata": {
    "ExecuteTime": {
     "end_time": "2024-04-18T12:14:19.556844Z",
     "start_time": "2024-04-18T12:14:19.553348Z"
    }
   },
   "outputs": [],
   "source": [
    "a = torch.tensor([1, 1, 1, 0, 0, 1])"
   ]
  },
  {
   "cell_type": "code",
   "execution_count": 121,
   "id": "7b603815",
   "metadata": {
    "ExecuteTime": {
     "end_time": "2024-04-18T12:14:19.755785Z",
     "start_time": "2024-04-18T12:14:19.752792Z"
    }
   },
   "outputs": [],
   "source": [
    "a = a.unsqueeze(0)"
   ]
  },
  {
   "cell_type": "code",
   "execution_count": 122,
   "id": "f629627d",
   "metadata": {
    "ExecuteTime": {
     "end_time": "2024-04-18T12:14:20.023041Z",
     "start_time": "2024-04-18T12:14:20.018249Z"
    }
   },
   "outputs": [
    {
     "data": {
      "text/plain": [
       "tensor([[4]])"
      ]
     },
     "execution_count": 122,
     "metadata": {},
     "output_type": "execute_result"
    }
   ],
   "source": [
    "a @ a.T"
   ]
  },
  {
   "cell_type": "code",
   "execution_count": 123,
   "id": "4941a095",
   "metadata": {
    "ExecuteTime": {
     "end_time": "2024-04-18T12:14:20.421162Z",
     "start_time": "2024-04-18T12:14:20.415923Z"
    }
   },
   "outputs": [
    {
     "data": {
      "text/plain": [
       "tensor([[1, 1, 1, 0, 0, 1],\n",
       "        [1, 1, 1, 0, 0, 1],\n",
       "        [1, 1, 1, 0, 0, 1],\n",
       "        [0, 0, 0, 0, 0, 0],\n",
       "        [0, 0, 0, 0, 0, 0],\n",
       "        [1, 1, 1, 0, 0, 1]])"
      ]
     },
     "execution_count": 123,
     "metadata": {},
     "output_type": "execute_result"
    }
   ],
   "source": [
    "a.T @ a"
   ]
  },
  {
   "cell_type": "code",
   "execution_count": 124,
   "id": "d1e0dd0d",
   "metadata": {
    "ExecuteTime": {
     "end_time": "2024-04-18T12:42:06.199111Z",
     "start_time": "2024-04-18T12:42:06.177451Z"
    }
   },
   "outputs": [
    {
     "data": {
      "text/plain": [
       "tensor([[1, 1, 1, 0, 0, 1]])"
      ]
     },
     "execution_count": 124,
     "metadata": {},
     "output_type": "execute_result"
    }
   ],
   "source": [
    "a"
   ]
  },
  {
   "cell_type": "code",
   "execution_count": 125,
   "id": "e9564b2a",
   "metadata": {
    "ExecuteTime": {
     "end_time": "2024-04-18T12:42:14.766845Z",
     "start_time": "2024-04-18T12:42:14.758658Z"
    }
   },
   "outputs": [
    {
     "data": {
      "text/plain": [
       "tensor([[[1, 1, 1, 0, 0, 1]]])"
      ]
     },
     "execution_count": 125,
     "metadata": {},
     "output_type": "execute_result"
    }
   ],
   "source": [
    "torch.stack([a])"
   ]
  },
  {
   "cell_type": "code",
   "execution_count": 64,
   "id": "cf63209e",
   "metadata": {
    "ExecuteTime": {
     "end_time": "2024-04-17T13:03:07.486737Z",
     "start_time": "2024-04-17T13:03:07.443929Z"
    }
   },
   "outputs": [
    {
     "data": {
      "text/plain": [
       "tensor([[[ 0,  1,  2,  3],\n",
       "         [ 4,  5,  6,  7]],\n",
       "\n",
       "        [[ 8,  9, 10, 11],\n",
       "         [12, 13, 14, 15]],\n",
       "\n",
       "        [[16, 17, 18, 19],\n",
       "         [20, 21, 22, 23]]])"
      ]
     },
     "execution_count": 64,
     "metadata": {},
     "output_type": "execute_result"
    }
   ],
   "source": [
    "a"
   ]
  },
  {
   "cell_type": "code",
   "execution_count": 71,
   "id": "472a1db7",
   "metadata": {
    "ExecuteTime": {
     "end_time": "2024-04-17T13:04:56.328962Z",
     "start_time": "2024-04-17T13:04:56.324001Z"
    }
   },
   "outputs": [],
   "source": [
    "a = (torch.randn(2, 3, 4) * 10).to(int)"
   ]
  },
  {
   "cell_type": "code",
   "execution_count": 72,
   "id": "66fe96cc",
   "metadata": {
    "ExecuteTime": {
     "end_time": "2024-04-17T13:05:02.838344Z",
     "start_time": "2024-04-17T13:05:02.833059Z"
    }
   },
   "outputs": [
    {
     "data": {
      "text/plain": [
       "tensor([[[  4,  -2,   0,   5],\n",
       "         [  8,  -9,  -2,  -4],\n",
       "         [  7,  10,  -3,   1]],\n",
       "\n",
       "        [[-11,  14,  17,  14],\n",
       "         [  7,  -7,  -1,  26],\n",
       "         [ -8,  14,   0,  19]]])"
      ]
     },
     "execution_count": 72,
     "metadata": {},
     "output_type": "execute_result"
    }
   ],
   "source": [
    "a"
   ]
  },
  {
   "cell_type": "code",
   "execution_count": 73,
   "id": "27232d49",
   "metadata": {
    "ExecuteTime": {
     "end_time": "2024-04-17T13:05:15.723447Z",
     "start_time": "2024-04-17T13:05:15.715472Z"
    }
   },
   "outputs": [
    {
     "data": {
      "text/plain": [
       "torch.return_types.sort(\n",
       "values=tensor([[[ -2,   0,   4,   5],\n",
       "         [ -9,  -4,  -2,   8],\n",
       "         [ -3,   1,   7,  10]],\n",
       "\n",
       "        [[-11,  14,  14,  17],\n",
       "         [ -7,  -1,   7,  26],\n",
       "         [ -8,   0,  14,  19]]]),\n",
       "indices=tensor([[[1, 2, 0, 3],\n",
       "         [1, 3, 2, 0],\n",
       "         [2, 3, 0, 1]],\n",
       "\n",
       "        [[0, 1, 3, 2],\n",
       "         [1, 2, 0, 3],\n",
       "         [0, 2, 1, 3]]]))"
      ]
     },
     "execution_count": 73,
     "metadata": {},
     "output_type": "execute_result"
    }
   ],
   "source": [
    "torch.sort(a, dim=-1)"
   ]
  },
  {
   "cell_type": "code",
   "execution_count": 75,
   "id": "0b233720",
   "metadata": {
    "ExecuteTime": {
     "end_time": "2024-04-17T14:13:48.449442Z",
     "start_time": "2024-04-17T14:13:48.444861Z"
    }
   },
   "outputs": [],
   "source": [
    "a = [torch.tensor([1])] * 3"
   ]
  },
  {
   "cell_type": "code",
   "execution_count": 77,
   "id": "a4ba16c2",
   "metadata": {
    "ExecuteTime": {
     "end_time": "2024-04-17T14:14:03.336348Z",
     "start_time": "2024-04-17T14:14:03.333543Z"
    }
   },
   "outputs": [],
   "source": [
    "b = torch.tensor(1)"
   ]
  },
  {
   "cell_type": "code",
   "execution_count": 78,
   "id": "4c67d081",
   "metadata": {
    "ExecuteTime": {
     "end_time": "2024-04-17T14:14:05.995911Z",
     "start_time": "2024-04-17T14:14:05.990736Z"
    }
   },
   "outputs": [
    {
     "data": {
      "text/plain": [
       "tensor(1)"
      ]
     },
     "execution_count": 78,
     "metadata": {},
     "output_type": "execute_result"
    }
   ],
   "source": [
    "b"
   ]
  },
  {
   "cell_type": "code",
   "execution_count": 79,
   "id": "ca00b660",
   "metadata": {
    "ExecuteTime": {
     "end_time": "2024-04-17T14:14:10.176081Z",
     "start_time": "2024-04-17T14:14:10.169565Z"
    }
   },
   "outputs": [
    {
     "data": {
      "text/plain": [
       "True"
      ]
     },
     "execution_count": 79,
     "metadata": {},
     "output_type": "execute_result"
    }
   ],
   "source": [
    "b in a"
   ]
  },
  {
   "cell_type": "code",
   "execution_count": 80,
   "id": "c77b4ae2",
   "metadata": {
    "ExecuteTime": {
     "end_time": "2024-04-17T14:14:20.548878Z",
     "start_time": "2024-04-17T14:14:20.544078Z"
    }
   },
   "outputs": [
    {
     "data": {
      "text/plain": [
       "True"
      ]
     },
     "execution_count": 80,
     "metadata": {},
     "output_type": "execute_result"
    }
   ],
   "source": [
    "1 in a"
   ]
  },
  {
   "cell_type": "code",
   "execution_count": 81,
   "id": "ac06759e",
   "metadata": {
    "ExecuteTime": {
     "end_time": "2024-04-18T00:30:35.863420Z",
     "start_time": "2024-04-18T00:30:35.816301Z"
    }
   },
   "outputs": [
    {
     "data": {
      "text/plain": [
       "[tensor([1]), tensor([1]), tensor([1])]"
      ]
     },
     "execution_count": 81,
     "metadata": {},
     "output_type": "execute_result"
    }
   ],
   "source": [
    "a"
   ]
  },
  {
   "cell_type": "code",
   "execution_count": 82,
   "id": "9c505f7e",
   "metadata": {
    "ExecuteTime": {
     "end_time": "2024-04-18T00:30:42.981711Z",
     "start_time": "2024-04-18T00:30:42.971960Z"
    }
   },
   "outputs": [
    {
     "data": {
      "text/plain": [
       "{tensor([1])}"
      ]
     },
     "execution_count": 82,
     "metadata": {},
     "output_type": "execute_result"
    }
   ],
   "source": [
    "set(a)"
   ]
  },
  {
   "cell_type": "code",
   "execution_count": 83,
   "id": "060095b0",
   "metadata": {
    "ExecuteTime": {
     "end_time": "2024-04-18T00:31:21.651337Z",
     "start_time": "2024-04-18T00:31:21.643594Z"
    }
   },
   "outputs": [],
   "source": [
    "b = torch.tensor([[1, 2, 3, 2], [4,2,3,4]])"
   ]
  },
  {
   "cell_type": "code",
   "execution_count": 86,
   "id": "c9d68baf",
   "metadata": {
    "ExecuteTime": {
     "end_time": "2024-04-18T00:32:19.558513Z",
     "start_time": "2024-04-18T00:32:19.553623Z"
    }
   },
   "outputs": [
    {
     "data": {
      "text/plain": [
       "{2, 3, 4}"
      ]
     },
     "execution_count": 86,
     "metadata": {},
     "output_type": "execute_result"
    }
   ],
   "source": [
    "set(b[1].tolist())"
   ]
  },
  {
   "cell_type": "code",
   "execution_count": 88,
   "id": "79dc6477",
   "metadata": {
    "ExecuteTime": {
     "end_time": "2024-04-18T09:04:24.898236Z",
     "start_time": "2024-04-18T09:04:24.883786Z"
    }
   },
   "outputs": [
    {
     "data": {
      "text/plain": [
       "{0}"
      ]
     },
     "execution_count": 88,
     "metadata": {},
     "output_type": "execute_result"
    }
   ],
   "source": [
    "set([0])"
   ]
  },
  {
   "cell_type": "code",
   "execution_count": 5,
   "id": "c59e0683",
   "metadata": {
    "ExecuteTime": {
     "end_time": "2024-04-21T00:57:57.065137Z",
     "start_time": "2024-04-21T00:57:57.063274Z"
    }
   },
   "outputs": [],
   "source": [
    "from datetime import datetime"
   ]
  },
  {
   "cell_type": "code",
   "execution_count": 12,
   "id": "3bb65504",
   "metadata": {
    "ExecuteTime": {
     "end_time": "2024-04-21T00:59:54.021600Z",
     "start_time": "2024-04-21T00:59:54.014104Z"
    }
   },
   "outputs": [
    {
     "data": {
      "text/plain": [
       "'2024.04.21 08:59:54'"
      ]
     },
     "execution_count": 12,
     "metadata": {},
     "output_type": "execute_result"
    }
   ],
   "source": [
    "datetime.strftime(datetime.now(), '%Y.%m.%d %H:%M:%S')"
   ]
  },
  {
   "cell_type": "code",
   "execution_count": 92,
   "id": "016954d0",
   "metadata": {
    "ExecuteTime": {
     "end_time": "2024-04-18T09:14:23.299049Z",
     "start_time": "2024-04-18T09:14:23.283341Z"
    }
   },
   "outputs": [
    {
     "name": "stderr",
     "output_type": "stream",
     "text": [
      "/var/folders/6g/83bk7w6d5nlbhh_5lzmncb0m0000gn/T/ipykernel_18896/400862352.py:1: DeprecationWarning: Sampling from a set deprecated\n",
      "since Python 3.9 and will be removed in a subsequent version.\n",
      "  a[-1].extend(random.sample(set([5,65,7]), 3))\n"
     ]
    }
   ],
   "source": [
    "a[-1].extend(random.sample(set([5,65,7]), 3))"
   ]
  },
  {
   "cell_type": "code",
   "execution_count": 93,
   "id": "a5c938f5",
   "metadata": {
    "ExecuteTime": {
     "end_time": "2024-04-18T09:14:32.170099Z",
     "start_time": "2024-04-18T09:14:32.164992Z"
    }
   },
   "outputs": [
    {
     "data": {
      "text/plain": [
       "[[4, 5], [9, 5, 65, 7, 7, 65, 5]]"
      ]
     },
     "execution_count": 93,
     "metadata": {},
     "output_type": "execute_result"
    }
   ],
   "source": [
    "a"
   ]
  },
  {
   "cell_type": "code",
   "execution_count": 95,
   "id": "c766d95c",
   "metadata": {
    "ExecuteTime": {
     "end_time": "2024-04-18T09:18:40.238317Z",
     "start_time": "2024-04-18T09:18:40.228229Z"
    }
   },
   "outputs": [
    {
     "data": {
      "text/plain": [
       "[4, 5, 7]"
      ]
     },
     "execution_count": 95,
     "metadata": {},
     "output_type": "execute_result"
    }
   ],
   "source": [
    "random.sample(list(set(range(9))), 3)"
   ]
  },
  {
   "cell_type": "code",
   "execution_count": 96,
   "id": "64790247",
   "metadata": {
    "ExecuteTime": {
     "end_time": "2024-04-18T09:20:01.057514Z",
     "start_time": "2024-04-18T09:20:01.051482Z"
    }
   },
   "outputs": [],
   "source": [
    "s = set([4,5,6])"
   ]
  },
  {
   "cell_type": "code",
   "execution_count": 14,
   "id": "e7017f38",
   "metadata": {
    "ExecuteTime": {
     "end_time": "2024-04-21T02:49:50.582054Z",
     "start_time": "2024-04-21T02:49:49.193017Z"
    }
   },
   "outputs": [],
   "source": [
    "import torch"
   ]
  },
  {
   "cell_type": "code",
   "execution_count": 19,
   "id": "73aee83d",
   "metadata": {
    "ExecuteTime": {
     "end_time": "2024-04-21T03:15:11.502122Z",
     "start_time": "2024-04-21T03:15:11.494302Z"
    }
   },
   "outputs": [],
   "source": [
    "a = torch.arange(24).view(2,3,4)"
   ]
  },
  {
   "cell_type": "code",
   "execution_count": 24,
   "id": "46fed4d2",
   "metadata": {
    "ExecuteTime": {
     "end_time": "2024-04-21T03:58:39.139925Z",
     "start_time": "2024-04-21T03:58:39.125950Z"
    }
   },
   "outputs": [
    {
     "data": {
      "text/plain": [
       "(tensor([[ 0,  4,  8],\n",
       "         [12, 16, 20]]),\n",
       " tensor([[ 1,  5,  9],\n",
       "         [13, 17, 21]]),\n",
       " tensor([[ 2,  6, 10],\n",
       "         [14, 18, 22]]),\n",
       " tensor([[ 3,  7, 11],\n",
       "         [15, 19, 23]]))"
      ]
     },
     "execution_count": 24,
     "metadata": {},
     "output_type": "execute_result"
    }
   ],
   "source": [
    "a.unbind(-1)"
   ]
  },
  {
   "cell_type": "code",
   "execution_count": 23,
   "id": "41209500",
   "metadata": {
    "ExecuteTime": {
     "end_time": "2024-04-21T03:20:25.809087Z",
     "start_time": "2024-04-21T03:20:25.802319Z"
    }
   },
   "outputs": [
    {
     "data": {
      "text/plain": [
       "(tensor([[ 0,  4,  8],\n",
       "         [12, 16, 20]]),\n",
       " tensor([[ 1,  5,  9],\n",
       "         [13, 17, 21]]),\n",
       " tensor([[ 2,  6, 10],\n",
       "         [14, 18, 22]]),\n",
       " tensor([[ 3,  7, 11],\n",
       "         [15, 19, 23]]))"
      ]
     },
     "execution_count": 23,
     "metadata": {},
     "output_type": "execute_result"
    }
   ],
   "source": [
    "torch.unbind(a, 2)"
   ]
  },
  {
   "cell_type": "code",
   "execution_count": 25,
   "id": "55317094",
   "metadata": {
    "ExecuteTime": {
     "end_time": "2024-04-21T04:00:39.563850Z",
     "start_time": "2024-04-21T04:00:39.558429Z"
    }
   },
   "outputs": [
    {
     "data": {
      "text/plain": [
       "tensor([[[ 0,  1,  2,  3],\n",
       "         [ 4,  5,  6,  7],\n",
       "         [ 8,  9, 10, 11]],\n",
       "\n",
       "        [[12, 13, 14, 15],\n",
       "         [16, 17, 18, 19],\n",
       "         [20, 21, 22, 23]]])"
      ]
     },
     "execution_count": 25,
     "metadata": {},
     "output_type": "execute_result"
    }
   ],
   "source": [
    "a"
   ]
  },
  {
   "cell_type": "code",
   "execution_count": 26,
   "id": "2fa414f9",
   "metadata": {
    "ExecuteTime": {
     "end_time": "2024-04-21T04:01:01.013920Z",
     "start_time": "2024-04-21T04:01:01.008893Z"
    }
   },
   "outputs": [],
   "source": [
    "b = torch.arange(4, 28).view(2, 3, 4)"
   ]
  },
  {
   "cell_type": "code",
   "execution_count": 27,
   "id": "defcad5f",
   "metadata": {
    "ExecuteTime": {
     "end_time": "2024-04-21T04:01:02.212396Z",
     "start_time": "2024-04-21T04:01:02.206906Z"
    }
   },
   "outputs": [
    {
     "data": {
      "text/plain": [
       "tensor([[[ 4,  5,  6,  7],\n",
       "         [ 8,  9, 10, 11],\n",
       "         [12, 13, 14, 15]],\n",
       "\n",
       "        [[16, 17, 18, 19],\n",
       "         [20, 21, 22, 23],\n",
       "         [24, 25, 26, 27]]])"
      ]
     },
     "execution_count": 27,
     "metadata": {},
     "output_type": "execute_result"
    }
   ],
   "source": [
    "b"
   ]
  },
  {
   "cell_type": "code",
   "execution_count": 28,
   "id": "6a3f28bb",
   "metadata": {
    "ExecuteTime": {
     "end_time": "2024-04-21T04:01:07.567372Z",
     "start_time": "2024-04-21T04:01:07.558772Z"
    }
   },
   "outputs": [
    {
     "data": {
      "text/plain": [
       "tensor([[[ 4,  5,  6,  7],\n",
       "         [ 8,  9, 10, 11],\n",
       "         [12, 13, 14, 15]],\n",
       "\n",
       "        [[16, 17, 18, 19],\n",
       "         [20, 21, 22, 23],\n",
       "         [24, 25, 26, 27]]])"
      ]
     },
     "execution_count": 28,
     "metadata": {},
     "output_type": "execute_result"
    }
   ],
   "source": [
    "torch.max(a, b)"
   ]
  },
  {
   "cell_type": "code",
   "execution_count": 34,
   "id": "52937229",
   "metadata": {
    "ExecuteTime": {
     "end_time": "2024-04-21T04:06:09.211714Z",
     "start_time": "2024-04-21T04:06:09.203262Z"
    }
   },
   "outputs": [
    {
     "data": {
      "text/plain": [
       "tensor([[[ 1,  1,  2,  3],\n",
       "         [ 4,  5,  6,  7],\n",
       "         [ 8,  9, 10, 11]],\n",
       "\n",
       "        [[12, 13, 14, 15],\n",
       "         [16, 17, 18, 19],\n",
       "         [20, 21, 22, 23]]])"
      ]
     },
     "execution_count": 34,
     "metadata": {},
     "output_type": "execute_result"
    }
   ],
   "source": [
    "torch.max(a, torch.ones_like(a))"
   ]
  },
  {
   "cell_type": "code",
   "execution_count": 35,
   "id": "36284c28",
   "metadata": {
    "ExecuteTime": {
     "end_time": "2024-04-21T04:51:35.700268Z",
     "start_time": "2024-04-21T04:51:35.687600Z"
    }
   },
   "outputs": [
    {
     "data": {
      "text/plain": [
       "torch.Size([2, 3, 4])"
      ]
     },
     "execution_count": 35,
     "metadata": {},
     "output_type": "execute_result"
    }
   ],
   "source": [
    "a.shape"
   ]
  },
  {
   "cell_type": "code",
   "execution_count": 37,
   "id": "dd589272",
   "metadata": {
    "ExecuteTime": {
     "end_time": "2024-04-21T04:51:54.275830Z",
     "start_time": "2024-04-21T04:51:54.270786Z"
    }
   },
   "outputs": [
    {
     "data": {
      "text/plain": [
       "torch.Size([2, 3])"
      ]
     },
     "execution_count": 37,
     "metadata": {},
     "output_type": "execute_result"
    }
   ],
   "source": [
    "a.unbind(-1)[0].shape"
   ]
  },
  {
   "cell_type": "code",
   "execution_count": 39,
   "id": "36a65aa5",
   "metadata": {
    "ExecuteTime": {
     "end_time": "2024-04-21T06:24:18.233172Z",
     "start_time": "2024-04-21T06:24:18.223104Z"
    }
   },
   "outputs": [
    {
     "data": {
      "text/plain": [
       "tensor(1)"
      ]
     },
     "execution_count": 39,
     "metadata": {},
     "output_type": "execute_result"
    }
   ],
   "source": [
    "torch.tensor([True, False]).sum()"
   ]
  },
  {
   "cell_type": "code",
   "execution_count": 40,
   "id": "6dbf8ad6",
   "metadata": {
    "ExecuteTime": {
     "end_time": "2024-04-21T15:06:03.832049Z",
     "start_time": "2024-04-21T15:06:03.684078Z"
    }
   },
   "outputs": [
    {
     "data": {
      "text/plain": [
       "tensor([[[ 0,  1,  2,  3],\n",
       "         [ 4,  5,  6,  7],\n",
       "         [ 8,  9, 10, 11]],\n",
       "\n",
       "        [[12, 13, 14, 15],\n",
       "         [16, 17, 18, 19],\n",
       "         [20, 21, 22, 23]]])"
      ]
     },
     "execution_count": 40,
     "metadata": {},
     "output_type": "execute_result"
    }
   ],
   "source": [
    "a"
   ]
  },
  {
   "cell_type": "code",
   "execution_count": 42,
   "id": "dc68ec0d",
   "metadata": {
    "ExecuteTime": {
     "end_time": "2024-04-21T15:06:21.552651Z",
     "start_time": "2024-04-21T15:06:21.546101Z"
    }
   },
   "outputs": [],
   "source": [
    "a = torch.rand(6)"
   ]
  },
  {
   "cell_type": "code",
   "execution_count": 43,
   "id": "0dee32ce",
   "metadata": {
    "ExecuteTime": {
     "end_time": "2024-04-21T15:06:24.255674Z",
     "start_time": "2024-04-21T15:06:24.231641Z"
    }
   },
   "outputs": [
    {
     "data": {
      "text/plain": [
       "tensor([0.4995, 0.8259, 0.1623, 0.2780, 0.3610, 0.2912])"
      ]
     },
     "execution_count": 43,
     "metadata": {},
     "output_type": "execute_result"
    }
   ],
   "source": [
    "a"
   ]
  },
  {
   "cell_type": "code",
   "execution_count": 44,
   "id": "d3e68da9",
   "metadata": {
    "ExecuteTime": {
     "end_time": "2024-04-21T15:06:28.460866Z",
     "start_time": "2024-04-21T15:06:28.455958Z"
    }
   },
   "outputs": [
    {
     "data": {
      "text/plain": [
       "torch.float32"
      ]
     },
     "execution_count": 44,
     "metadata": {},
     "output_type": "execute_result"
    }
   ],
   "source": [
    "a.dtype"
   ]
  },
  {
   "cell_type": "code",
   "execution_count": 45,
   "id": "911ace48",
   "metadata": {
    "ExecuteTime": {
     "end_time": "2024-04-23T04:24:39.315166Z",
     "start_time": "2024-04-23T04:24:39.093276Z"
    }
   },
   "outputs": [
    {
     "ename": "NameError",
     "evalue": "name 'random' is not defined",
     "output_type": "error",
     "traceback": [
      "\u001b[0;31m---------------------------------------------------------------------------\u001b[0m",
      "\u001b[0;31mNameError\u001b[0m                                 Traceback (most recent call last)",
      "Cell \u001b[0;32mIn[45], line 1\u001b[0m\n\u001b[0;32m----> 1\u001b[0m \u001b[43mrandom\u001b[49m\u001b[38;5;241m.\u001b[39mrandom(\u001b[38;5;241m9\u001b[39m)\n",
      "\u001b[0;31mNameError\u001b[0m: name 'random' is not defined"
     ]
    }
   ],
   "source": [
    "random.random(9)"
   ]
  },
  {
   "cell_type": "code",
   "execution_count": 46,
   "id": "1a6d60b8",
   "metadata": {
    "ExecuteTime": {
     "end_time": "2024-04-23T04:24:51.018802Z",
     "start_time": "2024-04-23T04:24:51.010087Z"
    }
   },
   "outputs": [],
   "source": [
    "import random"
   ]
  },
  {
   "cell_type": "code",
   "execution_count": 56,
   "id": "b1f36ca8",
   "metadata": {
    "ExecuteTime": {
     "end_time": "2024-04-23T04:25:05.100166Z",
     "start_time": "2024-04-23T04:25:05.097762Z"
    }
   },
   "outputs": [
    {
     "data": {
      "text/plain": [
       "4"
      ]
     },
     "execution_count": 56,
     "metadata": {},
     "output_type": "execute_result"
    }
   ],
   "source": [
    "random.randint(4,4)"
   ]
  },
  {
   "cell_type": "code",
   "execution_count": null,
   "id": "c1f67eca",
   "metadata": {},
   "outputs": [],
   "source": []
  }
 ],
 "metadata": {
  "kernelspec": {
   "display_name": "Python [conda env:pytorch] *",
   "language": "python",
   "name": "conda-env-pytorch-py"
  },
  "language_info": {
   "codemirror_mode": {
    "name": "ipython",
    "version": 3
   },
   "file_extension": ".py",
   "mimetype": "text/x-python",
   "name": "python",
   "nbconvert_exporter": "python",
   "pygments_lexer": "ipython3",
   "version": "3.9.15"
  }
 },
 "nbformat": 4,
 "nbformat_minor": 5
}
